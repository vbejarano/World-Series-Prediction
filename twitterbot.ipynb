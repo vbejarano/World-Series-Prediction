{
 "cells": [
  {
   "cell_type": "code",
   "execution_count": 82,
   "metadata": {},
   "outputs": [],
   "source": [
    "import tweepy\n",
    "import pandas as pd\n",
    "import numpy as np\n",
    "import json\n",
    "import sys\n",
    "from vaderSentiment.vaderSentiment import SentimentIntensityAnalyzer\n",
    "from nltk.tokenize import TweetTokenizer "
   ]
  },
  {
   "cell_type": "code",
   "execution_count": 83,
   "metadata": {},
   "outputs": [],
   "source": [
    "analyzer = SentimentIntensityAnalyzer()\n",
    "tw = TweetTokenizer()"
   ]
  },
  {
   "cell_type": "code",
   "execution_count": 84,
   "metadata": {},
   "outputs": [],
   "source": [
    "# Authenticate to Twitter\n",
    "auth = tweepy.OAuthHandler(\"AaA5oIgEF3hLseDsG1dqaqRYW\", \"0Y0w21fofTRM6VUqu8zOXxYjEesk6qzf5le9F3rnccIlfirPdw\")\n",
    "auth.set_access_token(\"1172035635215032321-pGnilwTy2YrRIHOg3TKWSu6ISvEY1b\", \"PBTWveu2O5HOgDFrXdmOAl1NnwVHaZ3j42XTckCPZb9Fz\")\n",
    "# Create API object\n",
    "api = tweepy.API(auth)"
   ]
  },
  {
   "cell_type": "code",
   "execution_count": 85,
   "metadata": {},
   "outputs": [
    {
     "name": "stdout",
     "output_type": "stream",
     "text": [
      "Authentication OK\n"
     ]
    }
   ],
   "source": [
    "#Check Credentials\n",
    "try:\n",
    "   api.verify_credentials()\n",
    "   print(\"Authentication OK\")\n",
    "except:\n",
    "   print(\"Error during authentication\")"
   ]
  },
  {
   "cell_type": "code",
   "execution_count": 94,
   "metadata": {},
   "outputs": [],
   "source": [
    "twitter_call = api.search(q=\"Astros\", lang=\"en\", rpp=1000)"
   ]
  },
  {
   "cell_type": "code",
   "execution_count": 98,
   "metadata": {},
   "outputs": [
    {
     "name": "stdout",
     "output_type": "stream",
     "text": [
      "[{'Tweet': 'Gotta get that astros Jersey 🥴', 'Time': datetime.datetime(2019, 10, 23, 2, 10, 43), 'User Name': 'TheGhettoPopeye©️', 'Compound Score': 0}, {'Tweet': 'PICK IT THE FUCK UP   😤😤😤', 'Time': datetime.datetime(2019, 10, 23, 2, 10, 43), 'User Name': '🃏🃏🃏', 'Compound Score': 0}, {'Tweet': 'Astros need to get their shit together.', 'Time': datetime.datetime(2019, 10, 23, 2, 10, 43), 'User Name': 'Joseph', 'Compound Score': 0}, {'Tweet': 'RT  : Me and boy   at the game thanks to  !!!!!! LETS GO!!!!! #Astros #WorldSeries #TakeItBack #famous…', 'Time': datetime.datetime(2019, 10, 23, 2, 10, 43), 'User Name': '.', 'Compound Score': 0}, {'Tweet': \"        No, again, that's not true.\\n\\nHe was given a plea deal by the prosecutor… https://t.co/RyNhS8JCNQ\", 'Time': datetime.datetime(2019, 10, 23, 2, 10, 42), 'User Name': 'Chris Parker, but spooky', 'Compound Score': 0}, {'Tweet': 'Not a Nats or Astros fans, but I’m def rooting for the underdogs!!!!! 😂 Soto is killin it today.', 'Time': datetime.datetime(2019, 10, 23, 2, 10, 42), 'User Name': 'jessica wang 🧢', 'Compound Score': 0}, {'Tweet': 'If the Astros had a big boy ballpark that’s an out', 'Time': datetime.datetime(2019, 10, 23, 2, 10, 42), 'User Name': 'champagne jon', 'Compound Score': 0}, {'Tweet': \"Boy it's like karma has it out for the Astros tonight I wonder why\", 'Time': datetime.datetime(2019, 10, 23, 2, 10, 42), 'User Name': 'The Pit and the Pen-Du-lum', 'Compound Score': 0}, {'Tweet': \"Bye bye overrated #Astros \\nThat's what you get for standing runners all the time #Nationals baby\", 'Time': datetime.datetime(2019, 10, 23, 2, 10, 42), 'User Name': 'Mark_B', 'Compound Score': 0}, {'Tweet': 'RT  : Conversation Bo and I are having in our MASN studios right now: This has the potential to be a monster series for Juan Soto.…', 'Time': datetime.datetime(2019, 10, 23, 2, 10, 42), 'User Name': 'Emperor Grunfeld', 'Compound Score': 0}, {'Tweet': '#Astros Gerrit Cole last gave up 5 ER on May 22 in his last loss.\\n\\nThat was against the #WhiteSox', 'Time': datetime.datetime(2019, 10, 23, 2, 10, 42), 'User Name': 'Ted', 'Compound Score': 0}, {'Tweet': 'Come on Astros !!!', 'Time': datetime.datetime(2019, 10, 23, 2, 10, 42), 'User Name': 'Magali Tinoco', 'Compound Score': 0}, {'Tweet': 'Seeing the Astros get lit up https://t.co/4ZQ5G8pY7N', 'Time': datetime.datetime(2019, 10, 23, 2, 10, 41), 'User Name': '.', 'Compound Score': 0}, {'Tweet': 'This is the most choking I’ve seen since Eminem’s first rap battle in 8 Mile. #Astros', 'Time': datetime.datetime(2019, 10, 23, 2, 10, 41), 'User Name': 'Christian Lamb', 'Compound Score': 0}, {'Tweet': 'Astros put the shift on Soto.\\n\\nHe hits an opposite field home run and double.\\n\\nSports are fun.', 'Time': datetime.datetime(2019, 10, 23, 2, 10, 41), 'User Name': 'Jake Lawrence', 'Compound Score': 0}]\n"
     ]
    }
   ],
   "source": [
    "tweets = []\n",
    "for tweet in twitter_call:\n",
    "    row = {}\n",
    "    clean = nltk.tokenize.casual.remove_handles(tweet.text)\n",
    "    row['Tweet'] = clean\n",
    "    row ['Time'] = tweet.created_at\n",
    "    row['User Name'] = tweet.user.name\n",
    "    analyzer.polarity_scores(clean)\n",
    "    row['Compound Score'] = 0\n",
    "    tweets.append(row)\n",
    "    \n",
    "print(tweets)"
   ]
  },
  {
   "cell_type": "code",
   "execution_count": 96,
   "metadata": {},
   "outputs": [
    {
     "name": "stdout",
     "output_type": "stream",
     "text": [
      "Status(_api=<tweepy.api.API object at 0x00000267F1EB3978>, _json={'created_at': 'Wed Oct 23 02:10:41 +0000 2019', 'id': 1186827251460919296, 'id_str': '1186827251460919296', 'text': 'Astros put the shift on Soto.\\n\\nHe hits an opposite field home run and double.\\n\\nSports are fun.', 'truncated': False, 'entities': {'hashtags': [], 'symbols': [], 'user_mentions': [], 'urls': []}, 'metadata': {'iso_language_code': 'en', 'result_type': 'recent'}, 'source': '<a href=\"http://twitter.com/download/iphone\" rel=\"nofollow\">Twitter for iPhone</a>', 'in_reply_to_status_id': None, 'in_reply_to_status_id_str': None, 'in_reply_to_user_id': None, 'in_reply_to_user_id_str': None, 'in_reply_to_screen_name': None, 'user': {'id': 46705486, 'id_str': '46705486', 'name': 'Jake Lawrence', 'screen_name': 'TheRealestRJL', 'location': '', 'description': \"Husband to a smokin' hot wife, dad to a baby munchkin, drinker of beer and bourbon, and lover of 'Murica. My typos may have tweets. https://t.co/FeJYq87PNA\", 'url': None, 'entities': {'description': {'urls': [{'url': 'https://t.co/FeJYq87PNA', 'expanded_url': 'http://www.tarheelblog.com', 'display_url': 'tarheelblog.com', 'indices': [132, 155]}]}}, 'protected': False, 'followers_count': 605, 'friends_count': 195, 'listed_count': 15, 'created_at': 'Fri Jun 12 17:49:30 +0000 2009', 'favourites_count': 1789, 'utc_offset': None, 'time_zone': None, 'geo_enabled': False, 'verified': False, 'statuses_count': 5455, 'lang': None, 'contributors_enabled': False, 'is_translator': False, 'is_translation_enabled': False, 'profile_background_color': 'C0DEED', 'profile_background_image_url': 'http://abs.twimg.com/images/themes/theme1/bg.png', 'profile_background_image_url_https': 'https://abs.twimg.com/images/themes/theme1/bg.png', 'profile_background_tile': False, 'profile_image_url': 'http://pbs.twimg.com/profile_images/1075818004116635648/FVeTTDhj_normal.jpg', 'profile_image_url_https': 'https://pbs.twimg.com/profile_images/1075818004116635648/FVeTTDhj_normal.jpg', 'profile_banner_url': 'https://pbs.twimg.com/profile_banners/46705486/1567309108', 'profile_link_color': '1DA1F2', 'profile_sidebar_border_color': 'C0DEED', 'profile_sidebar_fill_color': 'DDEEF6', 'profile_text_color': '333333', 'profile_use_background_image': True, 'has_extended_profile': False, 'default_profile': True, 'default_profile_image': False, 'following': False, 'follow_request_sent': False, 'notifications': False, 'translator_type': 'none'}, 'geo': None, 'coordinates': None, 'place': None, 'contributors': None, 'is_quote_status': False, 'retweet_count': 0, 'favorite_count': 0, 'favorited': False, 'retweeted': False, 'lang': 'en'}, created_at=datetime.datetime(2019, 10, 23, 2, 10, 41), id=1186827251460919296, id_str='1186827251460919296', text='Astros put the shift on Soto.\\n\\nHe hits an opposite field home run and double.\\n\\nSports are fun.', truncated=False, entities={'hashtags': [], 'symbols': [], 'user_mentions': [], 'urls': []}, metadata={'iso_language_code': 'en', 'result_type': 'recent'}, source='Twitter for iPhone', source_url='http://twitter.com/download/iphone', in_reply_to_status_id=None, in_reply_to_status_id_str=None, in_reply_to_user_id=None, in_reply_to_user_id_str=None, in_reply_to_screen_name=None, author=User(_api=<tweepy.api.API object at 0x00000267F1EB3978>, _json={'id': 46705486, 'id_str': '46705486', 'name': 'Jake Lawrence', 'screen_name': 'TheRealestRJL', 'location': '', 'description': \"Husband to a smokin' hot wife, dad to a baby munchkin, drinker of beer and bourbon, and lover of 'Murica. My typos may have tweets. https://t.co/FeJYq87PNA\", 'url': None, 'entities': {'description': {'urls': [{'url': 'https://t.co/FeJYq87PNA', 'expanded_url': 'http://www.tarheelblog.com', 'display_url': 'tarheelblog.com', 'indices': [132, 155]}]}}, 'protected': False, 'followers_count': 605, 'friends_count': 195, 'listed_count': 15, 'created_at': 'Fri Jun 12 17:49:30 +0000 2009', 'favourites_count': 1789, 'utc_offset': None, 'time_zone': None, 'geo_enabled': False, 'verified': False, 'statuses_count': 5455, 'lang': None, 'contributors_enabled': False, 'is_translator': False, 'is_translation_enabled': False, 'profile_background_color': 'C0DEED', 'profile_background_image_url': 'http://abs.twimg.com/images/themes/theme1/bg.png', 'profile_background_image_url_https': 'https://abs.twimg.com/images/themes/theme1/bg.png', 'profile_background_tile': False, 'profile_image_url': 'http://pbs.twimg.com/profile_images/1075818004116635648/FVeTTDhj_normal.jpg', 'profile_image_url_https': 'https://pbs.twimg.com/profile_images/1075818004116635648/FVeTTDhj_normal.jpg', 'profile_banner_url': 'https://pbs.twimg.com/profile_banners/46705486/1567309108', 'profile_link_color': '1DA1F2', 'profile_sidebar_border_color': 'C0DEED', 'profile_sidebar_fill_color': 'DDEEF6', 'profile_text_color': '333333', 'profile_use_background_image': True, 'has_extended_profile': False, 'default_profile': True, 'default_profile_image': False, 'following': False, 'follow_request_sent': False, 'notifications': False, 'translator_type': 'none'}, id=46705486, id_str='46705486', name='Jake Lawrence', screen_name='TheRealestRJL', location='', description=\"Husband to a smokin' hot wife, dad to a baby munchkin, drinker of beer and bourbon, and lover of 'Murica. My typos may have tweets. https://t.co/FeJYq87PNA\", url=None, entities={'description': {'urls': [{'url': 'https://t.co/FeJYq87PNA', 'expanded_url': 'http://www.tarheelblog.com', 'display_url': 'tarheelblog.com', 'indices': [132, 155]}]}}, protected=False, followers_count=605, friends_count=195, listed_count=15, created_at=datetime.datetime(2009, 6, 12, 17, 49, 30), favourites_count=1789, utc_offset=None, time_zone=None, geo_enabled=False, verified=False, statuses_count=5455, lang=None, contributors_enabled=False, is_translator=False, is_translation_enabled=False, profile_background_color='C0DEED', profile_background_image_url='http://abs.twimg.com/images/themes/theme1/bg.png', profile_background_image_url_https='https://abs.twimg.com/images/themes/theme1/bg.png', profile_background_tile=False, profile_image_url='http://pbs.twimg.com/profile_images/1075818004116635648/FVeTTDhj_normal.jpg', profile_image_url_https='https://pbs.twimg.com/profile_images/1075818004116635648/FVeTTDhj_normal.jpg', profile_banner_url='https://pbs.twimg.com/profile_banners/46705486/1567309108', profile_link_color='1DA1F2', profile_sidebar_border_color='C0DEED', profile_sidebar_fill_color='DDEEF6', profile_text_color='333333', profile_use_background_image=True, has_extended_profile=False, default_profile=True, default_profile_image=False, following=False, follow_request_sent=False, notifications=False, translator_type='none'), user=User(_api=<tweepy.api.API object at 0x00000267F1EB3978>, _json={'id': 46705486, 'id_str': '46705486', 'name': 'Jake Lawrence', 'screen_name': 'TheRealestRJL', 'location': '', 'description': \"Husband to a smokin' hot wife, dad to a baby munchkin, drinker of beer and bourbon, and lover of 'Murica. My typos may have tweets. https://t.co/FeJYq87PNA\", 'url': None, 'entities': {'description': {'urls': [{'url': 'https://t.co/FeJYq87PNA', 'expanded_url': 'http://www.tarheelblog.com', 'display_url': 'tarheelblog.com', 'indices': [132, 155]}]}}, 'protected': False, 'followers_count': 605, 'friends_count': 195, 'listed_count': 15, 'created_at': 'Fri Jun 12 17:49:30 +0000 2009', 'favourites_count': 1789, 'utc_offset': None, 'time_zone': None, 'geo_enabled': False, 'verified': False, 'statuses_count': 5455, 'lang': None, 'contributors_enabled': False, 'is_translator': False, 'is_translation_enabled': False, 'profile_background_color': 'C0DEED', 'profile_background_image_url': 'http://abs.twimg.com/images/themes/theme1/bg.png', 'profile_background_image_url_https': 'https://abs.twimg.com/images/themes/theme1/bg.png', 'profile_background_tile': False, 'profile_image_url': 'http://pbs.twimg.com/profile_images/1075818004116635648/FVeTTDhj_normal.jpg', 'profile_image_url_https': 'https://pbs.twimg.com/profile_images/1075818004116635648/FVeTTDhj_normal.jpg', 'profile_banner_url': 'https://pbs.twimg.com/profile_banners/46705486/1567309108', 'profile_link_color': '1DA1F2', 'profile_sidebar_border_color': 'C0DEED', 'profile_sidebar_fill_color': 'DDEEF6', 'profile_text_color': '333333', 'profile_use_background_image': True, 'has_extended_profile': False, 'default_profile': True, 'default_profile_image': False, 'following': False, 'follow_request_sent': False, 'notifications': False, 'translator_type': 'none'}, id=46705486, id_str='46705486', name='Jake Lawrence', screen_name='TheRealestRJL', location='', description=\"Husband to a smokin' hot wife, dad to a baby munchkin, drinker of beer and bourbon, and lover of 'Murica. My typos may have tweets. https://t.co/FeJYq87PNA\", url=None, entities={'description': {'urls': [{'url': 'https://t.co/FeJYq87PNA', 'expanded_url': 'http://www.tarheelblog.com', 'display_url': 'tarheelblog.com', 'indices': [132, 155]}]}}, protected=False, followers_count=605, friends_count=195, listed_count=15, created_at=datetime.datetime(2009, 6, 12, 17, 49, 30), favourites_count=1789, utc_offset=None, time_zone=None, geo_enabled=False, verified=False, statuses_count=5455, lang=None, contributors_enabled=False, is_translator=False, is_translation_enabled=False, profile_background_color='C0DEED', profile_background_image_url='http://abs.twimg.com/images/themes/theme1/bg.png', profile_background_image_url_https='https://abs.twimg.com/images/themes/theme1/bg.png', profile_background_tile=False, profile_image_url='http://pbs.twimg.com/profile_images/1075818004116635648/FVeTTDhj_normal.jpg', profile_image_url_https='https://pbs.twimg.com/profile_images/1075818004116635648/FVeTTDhj_normal.jpg', profile_banner_url='https://pbs.twimg.com/profile_banners/46705486/1567309108', profile_link_color='1DA1F2', profile_sidebar_border_color='C0DEED', profile_sidebar_fill_color='DDEEF6', profile_text_color='333333', profile_use_background_image=True, has_extended_profile=False, default_profile=True, default_profile_image=False, following=False, follow_request_sent=False, notifications=False, translator_type='none'), geo=None, coordinates=None, place=None, contributors=None, is_quote_status=False, retweet_count=0, favorite_count=0, favorited=False, retweeted=False, lang='en')\n"
     ]
    }
   ],
   "source": [
    "print(tweet)"
   ]
  },
  {
   "cell_type": "code",
   "execution_count": 100,
   "metadata": {},
   "outputs": [],
   "source": [
    "for tweet in api.search(q='', lang='en', rpp=100):\n",
    "    print(f'{tweet.user.name}:{tweet.text}')"
   ]
  },
  {
   "cell_type": "code",
   "execution_count": null,
   "metadata": {},
   "outputs": [],
   "source": []
  },
  {
   "cell_type": "code",
   "execution_count": null,
   "metadata": {},
   "outputs": [],
   "source": [
    "becca#12386"
   ]
  },
  {
   "cell_type": "code",
   "execution_count": 39,
   "metadata": {
    "scrolled": true
   },
   "outputs": [
    {
     "ename": "TypeError",
     "evalue": "'function' object is not iterable",
     "output_type": "error",
     "traceback": [
      "\u001b[1;31m---------------------------------------------------------------------------\u001b[0m",
      "\u001b[1;31mTypeError\u001b[0m                                 Traceback (most recent call last)",
      "\u001b[1;32m<ipython-input-39-1525796d805f>\u001b[0m in \u001b[0;36m<module>\u001b[1;34m\u001b[0m\n\u001b[1;32m----> 1\u001b[1;33m \u001b[1;32mfor\u001b[0m \u001b[0mtweet\u001b[0m \u001b[1;32min\u001b[0m \u001b[0mapi\u001b[0m\u001b[1;33m.\u001b[0m\u001b[0msearch\u001b[0m\u001b[1;33m:\u001b[0m\u001b[1;33m\u001b[0m\u001b[1;33m\u001b[0m\u001b[0m\n\u001b[0m\u001b[0;32m      2\u001b[0m     \u001b[0mline_object\u001b[0m \u001b[1;33m=\u001b[0m \u001b[0mjson\u001b[0m\u001b[1;33m.\u001b[0m\u001b[0mloads\u001b[0m\u001b[1;33m(\u001b[0m\u001b[0mline\u001b[0m\u001b[1;33m)\u001b[0m\u001b[1;33m\u001b[0m\u001b[1;33m\u001b[0m\u001b[0m\n\u001b[0;32m      3\u001b[0m     \u001b[1;32mtry\u001b[0m\u001b[1;33m:\u001b[0m\u001b[1;33m\u001b[0m\u001b[1;33m\u001b[0m\u001b[0m\n\u001b[0;32m      4\u001b[0m         \u001b[0mactor_id_string\u001b[0m \u001b[1;33m=\u001b[0m \u001b[0mline_object\u001b[0m\u001b[1;33m[\u001b[0m\u001b[1;34m\"actor\"\u001b[0m\u001b[1;33m]\u001b[0m\u001b[1;33m[\u001b[0m\u001b[1;34m\"id\"\u001b[0m\u001b[1;33m]\u001b[0m\u001b[1;33m\u001b[0m\u001b[1;33m\u001b[0m\u001b[0m\n\u001b[0;32m      5\u001b[0m         \u001b[0mactor_id\u001b[0m \u001b[1;33m=\u001b[0m \u001b[0mint\u001b[0m\u001b[1;33m(\u001b[0m \u001b[0mactor_id_string\u001b[0m\u001b[1;33m.\u001b[0m\u001b[0msplit\u001b[0m\u001b[1;33m(\u001b[0m\u001b[1;34m\":\"\u001b[0m\u001b[1;33m)\u001b[0m\u001b[1;33m[\u001b[0m\u001b[1;36m2\u001b[0m\u001b[1;33m]\u001b[0m \u001b[1;33m)\u001b[0m\u001b[1;33m\u001b[0m\u001b[1;33m\u001b[0m\u001b[0m\n",
      "\u001b[1;31mTypeError\u001b[0m: 'function' object is not iterable"
     ]
    }
   ],
   "source": []
  },
  {
   "cell_type": "code",
   "execution_count": null,
   "metadata": {},
   "outputs": [],
   "source": []
  }
 ],
 "metadata": {
  "kernelspec": {
   "display_name": "Python 3",
   "language": "python",
   "name": "python3"
  },
  "language_info": {
   "codemirror_mode": {
    "name": "ipython",
    "version": 3
   },
   "file_extension": ".py",
   "mimetype": "text/x-python",
   "name": "python",
   "nbconvert_exporter": "python",
   "pygments_lexer": "ipython3",
   "version": "3.7.3"
  }
 },
 "nbformat": 4,
 "nbformat_minor": 2
}
